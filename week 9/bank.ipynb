{
 "cells": [
  {
   "cell_type": "code",
   "execution_count": 398,
   "metadata": {},
   "outputs": [],
   "source": [
    "import pandas as pd\n",
    "import numpy as np\n",
    "import matplotlib.pyplot as plt\n",
    "import seaborn as sns"
   ]
  },
  {
   "cell_type": "code",
   "execution_count": 399,
   "metadata": {},
   "outputs": [],
   "source": [
    "data = np.genfromtxt(r'E:\\dataglacier\\bank-additional\\bank-additional-full.csv', delimiter=';',encoding='utf-8', dtype=None, names=True)\n",
    "df1 = pd.DataFrame(data)"
   ]
  },
  {
   "cell_type": "code",
   "execution_count": 452,
   "metadata": {},
   "outputs": [],
   "source": [
    "df=df1"
   ]
  },
  {
   "cell_type": "markdown",
   "metadata": {},
   "source": [
    "# removing the double quots \"\""
   ]
  },
  {
   "cell_type": "code",
   "execution_count": 401,
   "metadata": {},
   "outputs": [],
   "source": [
    "for col in df1.select_dtypes(include=['object']).columns:\n",
    "    df1[col] = df1[col].str.replace('\"', '')"
   ]
  },
  {
   "cell_type": "code",
   "execution_count": 402,
   "metadata": {},
   "outputs": [
    {
     "data": {
      "text/html": [
       "<div>\n",
       "<style scoped>\n",
       "    .dataframe tbody tr th:only-of-type {\n",
       "        vertical-align: middle;\n",
       "    }\n",
       "\n",
       "    .dataframe tbody tr th {\n",
       "        vertical-align: top;\n",
       "    }\n",
       "\n",
       "    .dataframe thead th {\n",
       "        text-align: right;\n",
       "    }\n",
       "</style>\n",
       "<table border=\"1\" class=\"dataframe\">\n",
       "  <thead>\n",
       "    <tr style=\"text-align: right;\">\n",
       "      <th></th>\n",
       "      <th>age</th>\n",
       "      <th>job</th>\n",
       "      <th>marital</th>\n",
       "      <th>education</th>\n",
       "      <th>default</th>\n",
       "      <th>housing</th>\n",
       "      <th>loan</th>\n",
       "      <th>contact</th>\n",
       "      <th>month</th>\n",
       "      <th>day_of_week</th>\n",
       "      <th>...</th>\n",
       "      <th>campaign</th>\n",
       "      <th>pdays</th>\n",
       "      <th>previous</th>\n",
       "      <th>poutcome</th>\n",
       "      <th>empvarrate</th>\n",
       "      <th>conspriceidx</th>\n",
       "      <th>consconfidx</th>\n",
       "      <th>euribor3m</th>\n",
       "      <th>nremployed</th>\n",
       "      <th>y</th>\n",
       "    </tr>\n",
       "  </thead>\n",
       "  <tbody>\n",
       "    <tr>\n",
       "      <th>0</th>\n",
       "      <td>56</td>\n",
       "      <td>housemaid</td>\n",
       "      <td>married</td>\n",
       "      <td>basic.4y</td>\n",
       "      <td>no</td>\n",
       "      <td>no</td>\n",
       "      <td>no</td>\n",
       "      <td>telephone</td>\n",
       "      <td>may</td>\n",
       "      <td>mon</td>\n",
       "      <td>...</td>\n",
       "      <td>1</td>\n",
       "      <td>999</td>\n",
       "      <td>0</td>\n",
       "      <td>nonexistent</td>\n",
       "      <td>1.1</td>\n",
       "      <td>93.994</td>\n",
       "      <td>-36.4</td>\n",
       "      <td>4.857</td>\n",
       "      <td>5191.0</td>\n",
       "      <td>no</td>\n",
       "    </tr>\n",
       "    <tr>\n",
       "      <th>1</th>\n",
       "      <td>57</td>\n",
       "      <td>services</td>\n",
       "      <td>married</td>\n",
       "      <td>high.school</td>\n",
       "      <td>unknown</td>\n",
       "      <td>no</td>\n",
       "      <td>no</td>\n",
       "      <td>telephone</td>\n",
       "      <td>may</td>\n",
       "      <td>mon</td>\n",
       "      <td>...</td>\n",
       "      <td>1</td>\n",
       "      <td>999</td>\n",
       "      <td>0</td>\n",
       "      <td>nonexistent</td>\n",
       "      <td>1.1</td>\n",
       "      <td>93.994</td>\n",
       "      <td>-36.4</td>\n",
       "      <td>4.857</td>\n",
       "      <td>5191.0</td>\n",
       "      <td>no</td>\n",
       "    </tr>\n",
       "    <tr>\n",
       "      <th>2</th>\n",
       "      <td>37</td>\n",
       "      <td>services</td>\n",
       "      <td>married</td>\n",
       "      <td>high.school</td>\n",
       "      <td>no</td>\n",
       "      <td>yes</td>\n",
       "      <td>no</td>\n",
       "      <td>telephone</td>\n",
       "      <td>may</td>\n",
       "      <td>mon</td>\n",
       "      <td>...</td>\n",
       "      <td>1</td>\n",
       "      <td>999</td>\n",
       "      <td>0</td>\n",
       "      <td>nonexistent</td>\n",
       "      <td>1.1</td>\n",
       "      <td>93.994</td>\n",
       "      <td>-36.4</td>\n",
       "      <td>4.857</td>\n",
       "      <td>5191.0</td>\n",
       "      <td>no</td>\n",
       "    </tr>\n",
       "    <tr>\n",
       "      <th>3</th>\n",
       "      <td>40</td>\n",
       "      <td>admin.</td>\n",
       "      <td>married</td>\n",
       "      <td>basic.6y</td>\n",
       "      <td>no</td>\n",
       "      <td>no</td>\n",
       "      <td>no</td>\n",
       "      <td>telephone</td>\n",
       "      <td>may</td>\n",
       "      <td>mon</td>\n",
       "      <td>...</td>\n",
       "      <td>1</td>\n",
       "      <td>999</td>\n",
       "      <td>0</td>\n",
       "      <td>nonexistent</td>\n",
       "      <td>1.1</td>\n",
       "      <td>93.994</td>\n",
       "      <td>-36.4</td>\n",
       "      <td>4.857</td>\n",
       "      <td>5191.0</td>\n",
       "      <td>no</td>\n",
       "    </tr>\n",
       "    <tr>\n",
       "      <th>4</th>\n",
       "      <td>56</td>\n",
       "      <td>services</td>\n",
       "      <td>married</td>\n",
       "      <td>high.school</td>\n",
       "      <td>no</td>\n",
       "      <td>no</td>\n",
       "      <td>yes</td>\n",
       "      <td>telephone</td>\n",
       "      <td>may</td>\n",
       "      <td>mon</td>\n",
       "      <td>...</td>\n",
       "      <td>1</td>\n",
       "      <td>999</td>\n",
       "      <td>0</td>\n",
       "      <td>nonexistent</td>\n",
       "      <td>1.1</td>\n",
       "      <td>93.994</td>\n",
       "      <td>-36.4</td>\n",
       "      <td>4.857</td>\n",
       "      <td>5191.0</td>\n",
       "      <td>no</td>\n",
       "    </tr>\n",
       "  </tbody>\n",
       "</table>\n",
       "<p>5 rows × 21 columns</p>\n",
       "</div>"
      ],
      "text/plain": [
       "  age        job  marital    education  default housing loan    contact month  \\\n",
       "0  56  housemaid  married     basic.4y       no      no   no  telephone   may   \n",
       "1  57   services  married  high.school  unknown      no   no  telephone   may   \n",
       "2  37   services  married  high.school       no     yes   no  telephone   may   \n",
       "3  40     admin.  married     basic.6y       no      no   no  telephone   may   \n",
       "4  56   services  married  high.school       no      no  yes  telephone   may   \n",
       "\n",
       "  day_of_week  ...  campaign  pdays  previous     poutcome empvarrate  \\\n",
       "0         mon  ...         1    999         0  nonexistent        1.1   \n",
       "1         mon  ...         1    999         0  nonexistent        1.1   \n",
       "2         mon  ...         1    999         0  nonexistent        1.1   \n",
       "3         mon  ...         1    999         0  nonexistent        1.1   \n",
       "4         mon  ...         1    999         0  nonexistent        1.1   \n",
       "\n",
       "   conspriceidx  consconfidx  euribor3m  nremployed   y  \n",
       "0        93.994        -36.4      4.857      5191.0  no  \n",
       "1        93.994        -36.4      4.857      5191.0  no  \n",
       "2        93.994        -36.4      4.857      5191.0  no  \n",
       "3        93.994        -36.4      4.857      5191.0  no  \n",
       "4        93.994        -36.4      4.857      5191.0  no  \n",
       "\n",
       "[5 rows x 21 columns]"
      ]
     },
     "execution_count": 402,
     "metadata": {},
     "output_type": "execute_result"
    }
   ],
   "source": [
    "df1.head(5)"
   ]
  },
  {
   "cell_type": "code",
   "execution_count": 404,
   "metadata": {},
   "outputs": [
    {
     "data": {
      "text/plain": [
       "default\n",
       "no         32588\n",
       "unknown     8597\n",
       "yes            3\n",
       "Name: count, dtype: int64"
      ]
     },
     "execution_count": 404,
     "metadata": {},
     "output_type": "execute_result"
    }
   ],
   "source": [
    "df1['default'].value_counts()"
   ]
  },
  {
   "cell_type": "code",
   "execution_count": 405,
   "metadata": {},
   "outputs": [
    {
     "name": "stdout",
     "output_type": "stream",
     "text": [
      "<class 'pandas.core.frame.DataFrame'>\n",
      "RangeIndex: 41188 entries, 0 to 41187\n",
      "Data columns (total 21 columns):\n",
      " #   Column        Non-Null Count  Dtype  \n",
      "---  ------        --------------  -----  \n",
      " 0   age           41188 non-null  object \n",
      " 1   job           41188 non-null  object \n",
      " 2   marital       41188 non-null  object \n",
      " 3   education     41188 non-null  object \n",
      " 4   default       41188 non-null  object \n",
      " 5   housing       41188 non-null  object \n",
      " 6   loan          41188 non-null  object \n",
      " 7   contact       41188 non-null  object \n",
      " 8   month         41188 non-null  object \n",
      " 9   day_of_week   41188 non-null  object \n",
      " 10  duration      41188 non-null  int32  \n",
      " 11  campaign      41188 non-null  int32  \n",
      " 12  pdays         41188 non-null  int32  \n",
      " 13  previous      41188 non-null  int32  \n",
      " 14  poutcome      41188 non-null  object \n",
      " 15  empvarrate    41188 non-null  float64\n",
      " 16  conspriceidx  41188 non-null  float64\n",
      " 17  consconfidx   41188 non-null  float64\n",
      " 18  euribor3m     41188 non-null  float64\n",
      " 19  nremployed    41188 non-null  float64\n",
      " 20  y             41188 non-null  object \n",
      "dtypes: float64(5), int32(4), object(12)\n",
      "memory usage: 6.0+ MB\n"
     ]
    }
   ],
   "source": [
    "df.info()"
   ]
  },
  {
   "cell_type": "code",
   "execution_count": 406,
   "metadata": {},
   "outputs": [
    {
     "data": {
      "text/plain": [
       "poutcome\n",
       "nonexistent    35563\n",
       "failure         4252\n",
       "success         1373\n",
       "Name: count, dtype: int64"
      ]
     },
     "execution_count": 406,
     "metadata": {},
     "output_type": "execute_result"
    }
   ],
   "source": [
    "df['poutcome'].value_counts()"
   ]
  },
  {
   "cell_type": "markdown",
   "metadata": {},
   "source": [
    "# In this dataset  the NA values are replaced with \"unknonw\"\n",
    "therefore am going to replace unkonw with median rather than mean because:\n",
    "1. Mean is sensitive to outliers. This introduces biased as outliers disproportionately influence the mean, potentially lead to distored analysis\n",
    "2. Median is not sensitive to outliers. This is because the median is the middle value when the data is sorted.\n",
    "# Generally, replacing NA values with the median is preferred since:\n",
    "1. It is robust to skewed distribution\n",
    "2. It preseves the original data distribution\n",
    " 3. It provides a more accurate measure of the central tendancy in non-normal distribution."
   ]
  },
  {
   "cell_type": "code",
   "execution_count": 407,
   "metadata": {},
   "outputs": [
    {
     "name": "stdout",
     "output_type": "stream",
     "text": [
      "Index(['age', 'job', 'marital', 'education', 'default', 'housing', 'loan',\n",
      "       'contact', 'month', 'day_of_week', 'poutcome', 'y'],\n",
      "      dtype='object')\n"
     ]
    },
    {
     "data": {
      "text/plain": [
       "(None, 12)"
      ]
     },
     "execution_count": 407,
     "metadata": {},
     "output_type": "execute_result"
    }
   ],
   "source": [
    "# dealing with age\n",
    "obj= df.select_dtypes(include=['object']).columns\n",
    "print(obj), len(obj)"
   ]
  },
  {
   "cell_type": "code",
   "execution_count": 409,
   "metadata": {},
   "outputs": [
    {
     "data": {
      "text/plain": [
       "[array(['housemaid', 'services', 'admin.', 'blue-collar', 'technician',\n",
       "        'retired', 'management', 'unemployed', 'self-employed', 'unknown',\n",
       "        'entrepreneur', 'student'], dtype=object),\n",
       " array(['married', 'single', 'divorced', 'unknown'], dtype=object),\n",
       " array(['basic.4y', 'high.school', 'basic.6y', 'basic.9y',\n",
       "        'professional.course', 'unknown', 'university.degree',\n",
       "        'illiterate'], dtype=object),\n",
       " array(['no', 'unknown', 'yes'], dtype=object),\n",
       " array(['no', 'yes', 'unknown'], dtype=object),\n",
       " array(['no', 'yes', 'unknown'], dtype=object),\n",
       " array(['telephone', 'cellular'], dtype=object),\n",
       " array(['may', 'jun', 'jul', 'aug', 'oct', 'nov', 'dec', 'mar', 'apr',\n",
       "        'sep'], dtype=object),\n",
       " array(['mon', 'tue', 'wed', 'thu', 'fri'], dtype=object),\n",
       " array(['nonexistent', 'failure', 'success'], dtype=object),\n",
       " array(['no', 'yes'], dtype=object)]"
      ]
     },
     "execution_count": 409,
     "metadata": {},
     "output_type": "execute_result"
    }
   ],
   "source": [
    "obj= df.select_dtypes(include=['object']).columns\n",
    "len(obj)\n",
    "all_strings =[]\n",
    "for i in obj:\n",
    "    all_strings.append(df[i].unique())\n",
    "\n",
    "all_strings"
   ]
  },
  {
   "cell_type": "code",
   "execution_count": 410,
   "metadata": {},
   "outputs": [
    {
     "data": {
      "text/plain": [
       "['housemaid',\n",
       " 'services',\n",
       " 'admin.',\n",
       " 'blue-collar',\n",
       " 'technician',\n",
       " 'retired',\n",
       " 'management',\n",
       " 'unemployed',\n",
       " 'self-employed',\n",
       " 'unknown',\n",
       " 'entrepreneur',\n",
       " 'student',\n",
       " 'married',\n",
       " 'single',\n",
       " 'divorced',\n",
       " 'unknown',\n",
       " 'basic.4y',\n",
       " 'high.school',\n",
       " 'basic.6y',\n",
       " 'basic.9y',\n",
       " 'professional.course',\n",
       " 'unknown',\n",
       " 'university.degree',\n",
       " 'illiterate',\n",
       " 'no',\n",
       " 'unknown',\n",
       " 'yes',\n",
       " 'no',\n",
       " 'yes',\n",
       " 'unknown',\n",
       " 'no',\n",
       " 'yes',\n",
       " 'unknown',\n",
       " 'telephone',\n",
       " 'cellular',\n",
       " 'may',\n",
       " 'jun',\n",
       " 'jul',\n",
       " 'aug',\n",
       " 'oct',\n",
       " 'nov',\n",
       " 'dec',\n",
       " 'mar',\n",
       " 'apr',\n",
       " 'sep',\n",
       " 'mon',\n",
       " 'tue',\n",
       " 'wed',\n",
       " 'thu',\n",
       " 'fri',\n",
       " 'nonexistent',\n",
       " 'failure',\n",
       " 'success',\n",
       " 'no',\n",
       " 'yes']"
      ]
     },
     "execution_count": 410,
     "metadata": {},
     "output_type": "execute_result"
    }
   ],
   "source": [
    "single_list=[]\n",
    "for u in all_strings:\n",
    "    single_list.extend(u)\n",
    "single_list"
   ]
  },
  {
   "cell_type": "code",
   "execution_count": 411,
   "metadata": {},
   "outputs": [],
   "source": [
    "unique_list=list(set(single_list))\n"
   ]
  },
  {
   "cell_type": "code",
   "execution_count": 412,
   "metadata": {},
   "outputs": [
    {
     "data": {
      "text/plain": [
       "0"
      ]
     },
     "execution_count": 412,
     "metadata": {},
     "output_type": "execute_result"
    }
   ],
   "source": [
    "diff=[x for x in unique_list if x not in single_list]\n",
    "len(diff)"
   ]
  },
  {
   "cell_type": "code",
   "execution_count": 413,
   "metadata": {},
   "outputs": [
    {
     "data": {
      "text/plain": [
       "{'housemaid': 1,\n",
       " 'services': 2,\n",
       " 'admin.': 3,\n",
       " 'blue-collar': 4,\n",
       " 'technician': 5,\n",
       " 'retired': 6,\n",
       " 'management': 7,\n",
       " 'unemployed': 8,\n",
       " 'self-employed': 9,\n",
       " 'unknown': 33,\n",
       " 'entrepreneur': 11,\n",
       " 'student': 12,\n",
       " 'married': 13,\n",
       " 'single': 14,\n",
       " 'divorced': 15,\n",
       " 'basic.4y': 17,\n",
       " 'high.school': 18,\n",
       " 'basic.6y': 19,\n",
       " 'basic.9y': 20,\n",
       " 'professional.course': 21,\n",
       " 'university.degree': 23,\n",
       " 'illiterate': 24,\n",
       " 'no': 54,\n",
       " 'yes': 55,\n",
       " 'telephone': 34,\n",
       " 'cellular': 35,\n",
       " 'may': 36,\n",
       " 'jun': 37,\n",
       " 'jul': 38,\n",
       " 'aug': 39,\n",
       " 'oct': 40,\n",
       " 'nov': 41,\n",
       " 'dec': 42,\n",
       " 'mar': 43,\n",
       " 'apr': 44,\n",
       " 'sep': 45,\n",
       " 'mon': 46,\n",
       " 'tue': 47,\n",
       " 'wed': 48,\n",
       " 'thu': 49,\n",
       " 'fri': 50,\n",
       " 'nonexistent': 51,\n",
       " 'failure': 52,\n",
       " 'success': 53}"
      ]
     },
     "execution_count": 413,
     "metadata": {},
     "output_type": "execute_result"
    }
   ],
   "source": [
    "obj_dict={}\n",
    "for i , j in enumerate(single_list):\n",
    "    obj_dict[j] = i+1\n",
    "\n",
    "obj_dict"
   ]
  },
  {
   "cell_type": "code",
   "execution_count": 414,
   "metadata": {},
   "outputs": [
    {
     "data": {
      "text/plain": [
       "{'housemaid': 0,\n",
       " 'services': 1,\n",
       " 'admin.': 2,\n",
       " 'blue-collar': 3,\n",
       " 'technician': 4,\n",
       " 'retired': 5,\n",
       " 'management': 6,\n",
       " 'unemployed': 7,\n",
       " 'self-employed': 8,\n",
       " 'unknown': 2,\n",
       " 'entrepreneur': 10,\n",
       " 'student': 11,\n",
       " 'married': 0,\n",
       " 'single': 1,\n",
       " 'divorced': 2,\n",
       " 'basic.4y': 0,\n",
       " 'high.school': 1,\n",
       " 'basic.6y': 2,\n",
       " 'basic.9y': 3,\n",
       " 'professional.course': 4,\n",
       " 'university.degree': 6,\n",
       " 'illiterate': 7,\n",
       " 'no': 0,\n",
       " 'yes': 1,\n",
       " 'telephone': 0,\n",
       " 'cellular': 1,\n",
       " 'may': 0,\n",
       " 'jun': 1,\n",
       " 'jul': 2,\n",
       " 'aug': 3,\n",
       " 'oct': 4,\n",
       " 'nov': 5,\n",
       " 'dec': 6,\n",
       " 'mar': 7,\n",
       " 'apr': 8,\n",
       " 'sep': 9,\n",
       " 'mon': 0,\n",
       " 'tue': 1,\n",
       " 'wed': 2,\n",
       " 'thu': 3,\n",
       " 'fri': 4,\n",
       " 'nonexistent': 0,\n",
       " 'failure': 1,\n",
       " 'success': 2}"
      ]
     },
     "execution_count": 414,
     "metadata": {},
     "output_type": "execute_result"
    }
   ],
   "source": [
    "final_dict={}\n",
    "\n",
    "for r in all_strings:\n",
    "    value =0\n",
    "    for t in r:\n",
    "        final_dict[t]=value\n",
    "        value +=1\n",
    "final_dict"
   ]
  },
  {
   "cell_type": "code",
   "execution_count": 415,
   "metadata": {},
   "outputs": [
    {
     "name": "stdout",
     "output_type": "stream",
     "text": [
      "<class 'pandas.core.frame.DataFrame'>\n",
      "RangeIndex: 41188 entries, 0 to 41187\n",
      "Data columns (total 21 columns):\n",
      " #   Column        Non-Null Count  Dtype  \n",
      "---  ------        --------------  -----  \n",
      " 0   age           41188 non-null  int64  \n",
      " 1   job           41188 non-null  object \n",
      " 2   marital       41188 non-null  object \n",
      " 3   education     41188 non-null  object \n",
      " 4   default       41188 non-null  object \n",
      " 5   housing       41188 non-null  object \n",
      " 6   loan          41188 non-null  object \n",
      " 7   contact       41188 non-null  object \n",
      " 8   month         41188 non-null  object \n",
      " 9   day_of_week   41188 non-null  object \n",
      " 10  duration      41188 non-null  int32  \n",
      " 11  campaign      41188 non-null  int32  \n",
      " 12  pdays         41188 non-null  int32  \n",
      " 13  previous      41188 non-null  int32  \n",
      " 14  poutcome      41188 non-null  object \n",
      " 15  empvarrate    41188 non-null  float64\n",
      " 16  conspriceidx  41188 non-null  float64\n",
      " 17  consconfidx   41188 non-null  float64\n",
      " 18  euribor3m     41188 non-null  float64\n",
      " 19  nremployed    41188 non-null  float64\n",
      " 20  y             41188 non-null  object \n",
      "dtypes: float64(5), int32(4), int64(1), object(11)\n",
      "memory usage: 6.0+ MB\n"
     ]
    }
   ],
   "source": [
    "df.info()"
   ]
  },
  {
   "cell_type": "code",
   "execution_count": 416,
   "metadata": {},
   "outputs": [
    {
     "data": {
      "text/html": [
       "<div>\n",
       "<style scoped>\n",
       "    .dataframe tbody tr th:only-of-type {\n",
       "        vertical-align: middle;\n",
       "    }\n",
       "\n",
       "    .dataframe tbody tr th {\n",
       "        vertical-align: top;\n",
       "    }\n",
       "\n",
       "    .dataframe thead th {\n",
       "        text-align: right;\n",
       "    }\n",
       "</style>\n",
       "<table border=\"1\" class=\"dataframe\">\n",
       "  <thead>\n",
       "    <tr style=\"text-align: right;\">\n",
       "      <th></th>\n",
       "      <th>age</th>\n",
       "      <th>job</th>\n",
       "      <th>marital</th>\n",
       "      <th>education</th>\n",
       "      <th>default</th>\n",
       "      <th>housing</th>\n",
       "      <th>loan</th>\n",
       "      <th>contact</th>\n",
       "      <th>month</th>\n",
       "      <th>day_of_week</th>\n",
       "      <th>...</th>\n",
       "      <th>campaign</th>\n",
       "      <th>pdays</th>\n",
       "      <th>previous</th>\n",
       "      <th>poutcome</th>\n",
       "      <th>empvarrate</th>\n",
       "      <th>conspriceidx</th>\n",
       "      <th>consconfidx</th>\n",
       "      <th>euribor3m</th>\n",
       "      <th>nremployed</th>\n",
       "      <th>y</th>\n",
       "    </tr>\n",
       "  </thead>\n",
       "  <tbody>\n",
       "    <tr>\n",
       "      <th>0</th>\n",
       "      <td>56</td>\n",
       "      <td>0</td>\n",
       "      <td>0</td>\n",
       "      <td>0</td>\n",
       "      <td>0</td>\n",
       "      <td>0</td>\n",
       "      <td>0</td>\n",
       "      <td>0</td>\n",
       "      <td>0</td>\n",
       "      <td>0</td>\n",
       "      <td>...</td>\n",
       "      <td>1</td>\n",
       "      <td>999</td>\n",
       "      <td>0</td>\n",
       "      <td>0</td>\n",
       "      <td>1.1</td>\n",
       "      <td>93.994</td>\n",
       "      <td>-36.4</td>\n",
       "      <td>4.857</td>\n",
       "      <td>5191.0</td>\n",
       "      <td>0</td>\n",
       "    </tr>\n",
       "    <tr>\n",
       "      <th>1</th>\n",
       "      <td>57</td>\n",
       "      <td>1</td>\n",
       "      <td>0</td>\n",
       "      <td>1</td>\n",
       "      <td>2</td>\n",
       "      <td>0</td>\n",
       "      <td>0</td>\n",
       "      <td>0</td>\n",
       "      <td>0</td>\n",
       "      <td>0</td>\n",
       "      <td>...</td>\n",
       "      <td>1</td>\n",
       "      <td>999</td>\n",
       "      <td>0</td>\n",
       "      <td>0</td>\n",
       "      <td>1.1</td>\n",
       "      <td>93.994</td>\n",
       "      <td>-36.4</td>\n",
       "      <td>4.857</td>\n",
       "      <td>5191.0</td>\n",
       "      <td>0</td>\n",
       "    </tr>\n",
       "    <tr>\n",
       "      <th>2</th>\n",
       "      <td>37</td>\n",
       "      <td>1</td>\n",
       "      <td>0</td>\n",
       "      <td>1</td>\n",
       "      <td>0</td>\n",
       "      <td>1</td>\n",
       "      <td>0</td>\n",
       "      <td>0</td>\n",
       "      <td>0</td>\n",
       "      <td>0</td>\n",
       "      <td>...</td>\n",
       "      <td>1</td>\n",
       "      <td>999</td>\n",
       "      <td>0</td>\n",
       "      <td>0</td>\n",
       "      <td>1.1</td>\n",
       "      <td>93.994</td>\n",
       "      <td>-36.4</td>\n",
       "      <td>4.857</td>\n",
       "      <td>5191.0</td>\n",
       "      <td>0</td>\n",
       "    </tr>\n",
       "    <tr>\n",
       "      <th>3</th>\n",
       "      <td>40</td>\n",
       "      <td>2</td>\n",
       "      <td>0</td>\n",
       "      <td>2</td>\n",
       "      <td>0</td>\n",
       "      <td>0</td>\n",
       "      <td>0</td>\n",
       "      <td>0</td>\n",
       "      <td>0</td>\n",
       "      <td>0</td>\n",
       "      <td>...</td>\n",
       "      <td>1</td>\n",
       "      <td>999</td>\n",
       "      <td>0</td>\n",
       "      <td>0</td>\n",
       "      <td>1.1</td>\n",
       "      <td>93.994</td>\n",
       "      <td>-36.4</td>\n",
       "      <td>4.857</td>\n",
       "      <td>5191.0</td>\n",
       "      <td>0</td>\n",
       "    </tr>\n",
       "    <tr>\n",
       "      <th>4</th>\n",
       "      <td>56</td>\n",
       "      <td>1</td>\n",
       "      <td>0</td>\n",
       "      <td>1</td>\n",
       "      <td>0</td>\n",
       "      <td>0</td>\n",
       "      <td>1</td>\n",
       "      <td>0</td>\n",
       "      <td>0</td>\n",
       "      <td>0</td>\n",
       "      <td>...</td>\n",
       "      <td>1</td>\n",
       "      <td>999</td>\n",
       "      <td>0</td>\n",
       "      <td>0</td>\n",
       "      <td>1.1</td>\n",
       "      <td>93.994</td>\n",
       "      <td>-36.4</td>\n",
       "      <td>4.857</td>\n",
       "      <td>5191.0</td>\n",
       "      <td>0</td>\n",
       "    </tr>\n",
       "    <tr>\n",
       "      <th>...</th>\n",
       "      <td>...</td>\n",
       "      <td>...</td>\n",
       "      <td>...</td>\n",
       "      <td>...</td>\n",
       "      <td>...</td>\n",
       "      <td>...</td>\n",
       "      <td>...</td>\n",
       "      <td>...</td>\n",
       "      <td>...</td>\n",
       "      <td>...</td>\n",
       "      <td>...</td>\n",
       "      <td>...</td>\n",
       "      <td>...</td>\n",
       "      <td>...</td>\n",
       "      <td>...</td>\n",
       "      <td>...</td>\n",
       "      <td>...</td>\n",
       "      <td>...</td>\n",
       "      <td>...</td>\n",
       "      <td>...</td>\n",
       "      <td>...</td>\n",
       "    </tr>\n",
       "    <tr>\n",
       "      <th>41183</th>\n",
       "      <td>73</td>\n",
       "      <td>5</td>\n",
       "      <td>0</td>\n",
       "      <td>4</td>\n",
       "      <td>0</td>\n",
       "      <td>1</td>\n",
       "      <td>0</td>\n",
       "      <td>1</td>\n",
       "      <td>5</td>\n",
       "      <td>4</td>\n",
       "      <td>...</td>\n",
       "      <td>1</td>\n",
       "      <td>999</td>\n",
       "      <td>0</td>\n",
       "      <td>0</td>\n",
       "      <td>-1.1</td>\n",
       "      <td>94.767</td>\n",
       "      <td>-50.8</td>\n",
       "      <td>1.028</td>\n",
       "      <td>4963.6</td>\n",
       "      <td>1</td>\n",
       "    </tr>\n",
       "    <tr>\n",
       "      <th>41184</th>\n",
       "      <td>46</td>\n",
       "      <td>3</td>\n",
       "      <td>0</td>\n",
       "      <td>4</td>\n",
       "      <td>0</td>\n",
       "      <td>0</td>\n",
       "      <td>0</td>\n",
       "      <td>1</td>\n",
       "      <td>5</td>\n",
       "      <td>4</td>\n",
       "      <td>...</td>\n",
       "      <td>1</td>\n",
       "      <td>999</td>\n",
       "      <td>0</td>\n",
       "      <td>0</td>\n",
       "      <td>-1.1</td>\n",
       "      <td>94.767</td>\n",
       "      <td>-50.8</td>\n",
       "      <td>1.028</td>\n",
       "      <td>4963.6</td>\n",
       "      <td>0</td>\n",
       "    </tr>\n",
       "    <tr>\n",
       "      <th>41185</th>\n",
       "      <td>56</td>\n",
       "      <td>5</td>\n",
       "      <td>0</td>\n",
       "      <td>6</td>\n",
       "      <td>0</td>\n",
       "      <td>1</td>\n",
       "      <td>0</td>\n",
       "      <td>1</td>\n",
       "      <td>5</td>\n",
       "      <td>4</td>\n",
       "      <td>...</td>\n",
       "      <td>2</td>\n",
       "      <td>999</td>\n",
       "      <td>0</td>\n",
       "      <td>0</td>\n",
       "      <td>-1.1</td>\n",
       "      <td>94.767</td>\n",
       "      <td>-50.8</td>\n",
       "      <td>1.028</td>\n",
       "      <td>4963.6</td>\n",
       "      <td>0</td>\n",
       "    </tr>\n",
       "    <tr>\n",
       "      <th>41186</th>\n",
       "      <td>44</td>\n",
       "      <td>4</td>\n",
       "      <td>0</td>\n",
       "      <td>4</td>\n",
       "      <td>0</td>\n",
       "      <td>0</td>\n",
       "      <td>0</td>\n",
       "      <td>1</td>\n",
       "      <td>5</td>\n",
       "      <td>4</td>\n",
       "      <td>...</td>\n",
       "      <td>1</td>\n",
       "      <td>999</td>\n",
       "      <td>0</td>\n",
       "      <td>0</td>\n",
       "      <td>-1.1</td>\n",
       "      <td>94.767</td>\n",
       "      <td>-50.8</td>\n",
       "      <td>1.028</td>\n",
       "      <td>4963.6</td>\n",
       "      <td>1</td>\n",
       "    </tr>\n",
       "    <tr>\n",
       "      <th>41187</th>\n",
       "      <td>74</td>\n",
       "      <td>5</td>\n",
       "      <td>0</td>\n",
       "      <td>4</td>\n",
       "      <td>0</td>\n",
       "      <td>1</td>\n",
       "      <td>0</td>\n",
       "      <td>1</td>\n",
       "      <td>5</td>\n",
       "      <td>4</td>\n",
       "      <td>...</td>\n",
       "      <td>3</td>\n",
       "      <td>999</td>\n",
       "      <td>1</td>\n",
       "      <td>1</td>\n",
       "      <td>-1.1</td>\n",
       "      <td>94.767</td>\n",
       "      <td>-50.8</td>\n",
       "      <td>1.028</td>\n",
       "      <td>4963.6</td>\n",
       "      <td>0</td>\n",
       "    </tr>\n",
       "  </tbody>\n",
       "</table>\n",
       "<p>41188 rows × 21 columns</p>\n",
       "</div>"
      ],
      "text/plain": [
       "       age  job  marital  education  default  housing  loan  contact  month  \\\n",
       "0       56    0        0          0        0        0     0        0      0   \n",
       "1       57    1        0          1        2        0     0        0      0   \n",
       "2       37    1        0          1        0        1     0        0      0   \n",
       "3       40    2        0          2        0        0     0        0      0   \n",
       "4       56    1        0          1        0        0     1        0      0   \n",
       "...    ...  ...      ...        ...      ...      ...   ...      ...    ...   \n",
       "41183   73    5        0          4        0        1     0        1      5   \n",
       "41184   46    3        0          4        0        0     0        1      5   \n",
       "41185   56    5        0          6        0        1     0        1      5   \n",
       "41186   44    4        0          4        0        0     0        1      5   \n",
       "41187   74    5        0          4        0        1     0        1      5   \n",
       "\n",
       "       day_of_week  ...  campaign  pdays  previous  poutcome  empvarrate  \\\n",
       "0                0  ...         1    999         0         0         1.1   \n",
       "1                0  ...         1    999         0         0         1.1   \n",
       "2                0  ...         1    999         0         0         1.1   \n",
       "3                0  ...         1    999         0         0         1.1   \n",
       "4                0  ...         1    999         0         0         1.1   \n",
       "...            ...  ...       ...    ...       ...       ...         ...   \n",
       "41183            4  ...         1    999         0         0        -1.1   \n",
       "41184            4  ...         1    999         0         0        -1.1   \n",
       "41185            4  ...         2    999         0         0        -1.1   \n",
       "41186            4  ...         1    999         0         0        -1.1   \n",
       "41187            4  ...         3    999         1         1        -1.1   \n",
       "\n",
       "       conspriceidx  consconfidx  euribor3m  nremployed  y  \n",
       "0            93.994        -36.4      4.857      5191.0  0  \n",
       "1            93.994        -36.4      4.857      5191.0  0  \n",
       "2            93.994        -36.4      4.857      5191.0  0  \n",
       "3            93.994        -36.4      4.857      5191.0  0  \n",
       "4            93.994        -36.4      4.857      5191.0  0  \n",
       "...             ...          ...        ...         ... ..  \n",
       "41183        94.767        -50.8      1.028      4963.6  1  \n",
       "41184        94.767        -50.8      1.028      4963.6  0  \n",
       "41185        94.767        -50.8      1.028      4963.6  0  \n",
       "41186        94.767        -50.8      1.028      4963.6  1  \n",
       "41187        94.767        -50.8      1.028      4963.6  0  \n",
       "\n",
       "[41188 rows x 21 columns]"
      ]
     },
     "execution_count": 416,
     "metadata": {},
     "output_type": "execute_result"
    }
   ],
   "source": [
    "for col in df.select_dtypes(include=['object']).columns:\n",
    "    df[col] = df[col].map(final_dict)\n",
    "\n",
    "df\n",
    "\n"
   ]
  },
  {
   "cell_type": "code",
   "execution_count": 417,
   "metadata": {},
   "outputs": [
    {
     "data": {
      "text/plain": [
       "month\n",
       "6      182\n",
       "7      546\n",
       "9      570\n",
       "4      718\n",
       "8     2632\n",
       "5     4101\n",
       "1     5318\n",
       "3     6178\n",
       "2     7174\n",
       "0    13769\n",
       "Name: count, dtype: int64"
      ]
     },
     "execution_count": 417,
     "metadata": {},
     "output_type": "execute_result"
    }
   ],
   "source": [
    "df['month'].value_counts().sort_values()"
   ]
  },
  {
   "cell_type": "code",
   "execution_count": 420,
   "metadata": {},
   "outputs": [],
   "source": [
    "# columns with unknown\n",
    "# job, marital, education, default, housing, loan"
   ]
  },
  {
   "cell_type": "code",
   "execution_count": 421,
   "metadata": {},
   "outputs": [
    {
     "data": {
      "text/plain": [
       "(3.0, 0.0, 3.0, 0.0, 1.0, 0.0)"
      ]
     },
     "execution_count": 421,
     "metadata": {},
     "output_type": "execute_result"
    }
   ],
   "source": [
    "df['job'].median(),df['marital'].median(), df['education'].median(), df['default'].median(),df['housing'].median(),df['loan'].median()"
   ]
  },
  {
   "cell_type": "markdown",
   "metadata": {},
   "source": [
    "# From the dictionary final_dict value 2 represents \"unknown\"\n",
    "Thus am going to replace all unknown (2) with with their medians "
   ]
  },
  {
   "cell_type": "code",
   "execution_count": 422,
   "metadata": {},
   "outputs": [],
   "source": [
    "df['job'] =df['job'].replace({2:3.0})\n",
    "df['marital'] =df['marital'].replace({2:0.0})\n",
    "df['education'] = df['education'].replace({2: 3.0})\n",
    "df['default'] = df['default'].replace({2:0.0})\n",
    "df['housing'] = df['housing'].replace({2:1.0})\n",
    "df['loan'] =df['loan'].replace({2:0.0})"
   ]
  },
  {
   "cell_type": "code",
   "execution_count": 439,
   "metadata": {},
   "outputs": [
    {
     "data": {
      "text/html": [
       "<div>\n",
       "<style scoped>\n",
       "    .dataframe tbody tr th:only-of-type {\n",
       "        vertical-align: middle;\n",
       "    }\n",
       "\n",
       "    .dataframe tbody tr th {\n",
       "        vertical-align: top;\n",
       "    }\n",
       "\n",
       "    .dataframe thead th {\n",
       "        text-align: right;\n",
       "    }\n",
       "</style>\n",
       "<table border=\"1\" class=\"dataframe\">\n",
       "  <thead>\n",
       "    <tr style=\"text-align: right;\">\n",
       "      <th></th>\n",
       "      <th>age</th>\n",
       "      <th>job</th>\n",
       "      <th>marital</th>\n",
       "      <th>education</th>\n",
       "      <th>default</th>\n",
       "      <th>housing</th>\n",
       "      <th>loan</th>\n",
       "      <th>contact</th>\n",
       "      <th>month</th>\n",
       "      <th>day_of_week</th>\n",
       "      <th>...</th>\n",
       "      <th>campaign</th>\n",
       "      <th>pdays</th>\n",
       "      <th>previous</th>\n",
       "      <th>poutcome</th>\n",
       "      <th>empvarrate</th>\n",
       "      <th>conspriceidx</th>\n",
       "      <th>consconfidx</th>\n",
       "      <th>euribor3m</th>\n",
       "      <th>nremployed</th>\n",
       "      <th>y</th>\n",
       "    </tr>\n",
       "  </thead>\n",
       "  <tbody>\n",
       "    <tr>\n",
       "      <th>0</th>\n",
       "      <td>41</td>\n",
       "      <td>5</td>\n",
       "      <td>1</td>\n",
       "      <td>0</td>\n",
       "      <td>0</td>\n",
       "      <td>1</td>\n",
       "      <td>0</td>\n",
       "      <td>1</td>\n",
       "      <td>4</td>\n",
       "      <td>4</td>\n",
       "      <td>...</td>\n",
       "      <td>1</td>\n",
       "      <td>999</td>\n",
       "      <td>0</td>\n",
       "      <td>0</td>\n",
       "      <td>-1.1</td>\n",
       "      <td>94.601</td>\n",
       "      <td>-49.5</td>\n",
       "      <td>0.942</td>\n",
       "      <td>4963.6</td>\n",
       "      <td>0</td>\n",
       "    </tr>\n",
       "    <tr>\n",
       "      <th>1</th>\n",
       "      <td>37</td>\n",
       "      <td>3</td>\n",
       "      <td>0</td>\n",
       "      <td>3</td>\n",
       "      <td>0</td>\n",
       "      <td>1</td>\n",
       "      <td>0</td>\n",
       "      <td>1</td>\n",
       "      <td>8</td>\n",
       "      <td>3</td>\n",
       "      <td>...</td>\n",
       "      <td>2</td>\n",
       "      <td>999</td>\n",
       "      <td>1</td>\n",
       "      <td>1</td>\n",
       "      <td>-1.8</td>\n",
       "      <td>93.075</td>\n",
       "      <td>-47.1</td>\n",
       "      <td>1.435</td>\n",
       "      <td>5099.1</td>\n",
       "      <td>0</td>\n",
       "    </tr>\n",
       "    <tr>\n",
       "      <th>2</th>\n",
       "      <td>36</td>\n",
       "      <td>3</td>\n",
       "      <td>0</td>\n",
       "      <td>3</td>\n",
       "      <td>0</td>\n",
       "      <td>1</td>\n",
       "      <td>0</td>\n",
       "      <td>0</td>\n",
       "      <td>0</td>\n",
       "      <td>2</td>\n",
       "      <td>...</td>\n",
       "      <td>2</td>\n",
       "      <td>999</td>\n",
       "      <td>0</td>\n",
       "      <td>0</td>\n",
       "      <td>1.1</td>\n",
       "      <td>93.994</td>\n",
       "      <td>-36.4</td>\n",
       "      <td>4.856</td>\n",
       "      <td>5191.0</td>\n",
       "      <td>0</td>\n",
       "    </tr>\n",
       "    <tr>\n",
       "      <th>3</th>\n",
       "      <td>44</td>\n",
       "      <td>4</td>\n",
       "      <td>0</td>\n",
       "      <td>4</td>\n",
       "      <td>0</td>\n",
       "      <td>0</td>\n",
       "      <td>1</td>\n",
       "      <td>1</td>\n",
       "      <td>3</td>\n",
       "      <td>2</td>\n",
       "      <td>...</td>\n",
       "      <td>2</td>\n",
       "      <td>999</td>\n",
       "      <td>0</td>\n",
       "      <td>0</td>\n",
       "      <td>1.4</td>\n",
       "      <td>93.444</td>\n",
       "      <td>-36.1</td>\n",
       "      <td>4.964</td>\n",
       "      <td>5228.1</td>\n",
       "      <td>0</td>\n",
       "    </tr>\n",
       "    <tr>\n",
       "      <th>4</th>\n",
       "      <td>56</td>\n",
       "      <td>3</td>\n",
       "      <td>0</td>\n",
       "      <td>3</td>\n",
       "      <td>0</td>\n",
       "      <td>1</td>\n",
       "      <td>0</td>\n",
       "      <td>1</td>\n",
       "      <td>3</td>\n",
       "      <td>1</td>\n",
       "      <td>...</td>\n",
       "      <td>3</td>\n",
       "      <td>999</td>\n",
       "      <td>0</td>\n",
       "      <td>0</td>\n",
       "      <td>1.4</td>\n",
       "      <td>93.444</td>\n",
       "      <td>-36.1</td>\n",
       "      <td>4.966</td>\n",
       "      <td>5228.1</td>\n",
       "      <td>0</td>\n",
       "    </tr>\n",
       "    <tr>\n",
       "      <th>...</th>\n",
       "      <td>...</td>\n",
       "      <td>...</td>\n",
       "      <td>...</td>\n",
       "      <td>...</td>\n",
       "      <td>...</td>\n",
       "      <td>...</td>\n",
       "      <td>...</td>\n",
       "      <td>...</td>\n",
       "      <td>...</td>\n",
       "      <td>...</td>\n",
       "      <td>...</td>\n",
       "      <td>...</td>\n",
       "      <td>...</td>\n",
       "      <td>...</td>\n",
       "      <td>...</td>\n",
       "      <td>...</td>\n",
       "      <td>...</td>\n",
       "      <td>...</td>\n",
       "      <td>...</td>\n",
       "      <td>...</td>\n",
       "      <td>...</td>\n",
       "    </tr>\n",
       "    <tr>\n",
       "      <th>41183</th>\n",
       "      <td>28</td>\n",
       "      <td>6</td>\n",
       "      <td>1</td>\n",
       "      <td>6</td>\n",
       "      <td>0</td>\n",
       "      <td>1</td>\n",
       "      <td>0</td>\n",
       "      <td>1</td>\n",
       "      <td>2</td>\n",
       "      <td>2</td>\n",
       "      <td>...</td>\n",
       "      <td>9</td>\n",
       "      <td>999</td>\n",
       "      <td>0</td>\n",
       "      <td>0</td>\n",
       "      <td>1.4</td>\n",
       "      <td>93.918</td>\n",
       "      <td>-42.7</td>\n",
       "      <td>4.963</td>\n",
       "      <td>5228.1</td>\n",
       "      <td>0</td>\n",
       "    </tr>\n",
       "    <tr>\n",
       "      <th>41184</th>\n",
       "      <td>48</td>\n",
       "      <td>4</td>\n",
       "      <td>0</td>\n",
       "      <td>3</td>\n",
       "      <td>0</td>\n",
       "      <td>0</td>\n",
       "      <td>0</td>\n",
       "      <td>0</td>\n",
       "      <td>1</td>\n",
       "      <td>3</td>\n",
       "      <td>...</td>\n",
       "      <td>1</td>\n",
       "      <td>999</td>\n",
       "      <td>0</td>\n",
       "      <td>0</td>\n",
       "      <td>1.4</td>\n",
       "      <td>94.465</td>\n",
       "      <td>-41.8</td>\n",
       "      <td>4.958</td>\n",
       "      <td>5228.1</td>\n",
       "      <td>0</td>\n",
       "    </tr>\n",
       "    <tr>\n",
       "      <th>41185</th>\n",
       "      <td>36</td>\n",
       "      <td>3</td>\n",
       "      <td>1</td>\n",
       "      <td>3</td>\n",
       "      <td>0</td>\n",
       "      <td>1</td>\n",
       "      <td>0</td>\n",
       "      <td>1</td>\n",
       "      <td>0</td>\n",
       "      <td>3</td>\n",
       "      <td>...</td>\n",
       "      <td>1</td>\n",
       "      <td>999</td>\n",
       "      <td>0</td>\n",
       "      <td>0</td>\n",
       "      <td>-1.8</td>\n",
       "      <td>92.893</td>\n",
       "      <td>-46.2</td>\n",
       "      <td>1.266</td>\n",
       "      <td>5099.1</td>\n",
       "      <td>0</td>\n",
       "    </tr>\n",
       "    <tr>\n",
       "      <th>41186</th>\n",
       "      <td>52</td>\n",
       "      <td>10</td>\n",
       "      <td>0</td>\n",
       "      <td>6</td>\n",
       "      <td>0</td>\n",
       "      <td>0</td>\n",
       "      <td>0</td>\n",
       "      <td>0</td>\n",
       "      <td>0</td>\n",
       "      <td>0</td>\n",
       "      <td>...</td>\n",
       "      <td>1</td>\n",
       "      <td>999</td>\n",
       "      <td>0</td>\n",
       "      <td>0</td>\n",
       "      <td>1.1</td>\n",
       "      <td>93.994</td>\n",
       "      <td>-36.4</td>\n",
       "      <td>4.857</td>\n",
       "      <td>5191.0</td>\n",
       "      <td>0</td>\n",
       "    </tr>\n",
       "    <tr>\n",
       "      <th>41187</th>\n",
       "      <td>33</td>\n",
       "      <td>3</td>\n",
       "      <td>1</td>\n",
       "      <td>6</td>\n",
       "      <td>0</td>\n",
       "      <td>1</td>\n",
       "      <td>0</td>\n",
       "      <td>1</td>\n",
       "      <td>3</td>\n",
       "      <td>1</td>\n",
       "      <td>...</td>\n",
       "      <td>4</td>\n",
       "      <td>999</td>\n",
       "      <td>0</td>\n",
       "      <td>0</td>\n",
       "      <td>1.4</td>\n",
       "      <td>93.444</td>\n",
       "      <td>-36.1</td>\n",
       "      <td>4.966</td>\n",
       "      <td>5228.1</td>\n",
       "      <td>0</td>\n",
       "    </tr>\n",
       "  </tbody>\n",
       "</table>\n",
       "<p>41188 rows × 21 columns</p>\n",
       "</div>"
      ],
      "text/plain": [
       "       age  job  marital  education  default  housing  loan  contact  month  \\\n",
       "0       41    5        1          0        0        1     0        1      4   \n",
       "1       37    3        0          3        0        1     0        1      8   \n",
       "2       36    3        0          3        0        1     0        0      0   \n",
       "3       44    4        0          4        0        0     1        1      3   \n",
       "4       56    3        0          3        0        1     0        1      3   \n",
       "...    ...  ...      ...        ...      ...      ...   ...      ...    ...   \n",
       "41183   28    6        1          6        0        1     0        1      2   \n",
       "41184   48    4        0          3        0        0     0        0      1   \n",
       "41185   36    3        1          3        0        1     0        1      0   \n",
       "41186   52   10        0          6        0        0     0        0      0   \n",
       "41187   33    3        1          6        0        1     0        1      3   \n",
       "\n",
       "       day_of_week  ...  campaign  pdays  previous  poutcome  empvarrate  \\\n",
       "0                4  ...         1    999         0         0        -1.1   \n",
       "1                3  ...         2    999         1         1        -1.8   \n",
       "2                2  ...         2    999         0         0         1.1   \n",
       "3                2  ...         2    999         0         0         1.4   \n",
       "4                1  ...         3    999         0         0         1.4   \n",
       "...            ...  ...       ...    ...       ...       ...         ...   \n",
       "41183            2  ...         9    999         0         0         1.4   \n",
       "41184            3  ...         1    999         0         0         1.4   \n",
       "41185            3  ...         1    999         0         0        -1.8   \n",
       "41186            0  ...         1    999         0         0         1.1   \n",
       "41187            1  ...         4    999         0         0         1.4   \n",
       "\n",
       "       conspriceidx  consconfidx  euribor3m  nremployed  y  \n",
       "0            94.601        -49.5      0.942      4963.6  0  \n",
       "1            93.075        -47.1      1.435      5099.1  0  \n",
       "2            93.994        -36.4      4.856      5191.0  0  \n",
       "3            93.444        -36.1      4.964      5228.1  0  \n",
       "4            93.444        -36.1      4.966      5228.1  0  \n",
       "...             ...          ...        ...         ... ..  \n",
       "41183        93.918        -42.7      4.963      5228.1  0  \n",
       "41184        94.465        -41.8      4.958      5228.1  0  \n",
       "41185        92.893        -46.2      1.266      5099.1  0  \n",
       "41186        93.994        -36.4      4.857      5191.0  0  \n",
       "41187        93.444        -36.1      4.966      5228.1  0  \n",
       "\n",
       "[41188 rows x 21 columns]"
      ]
     },
     "execution_count": 439,
     "metadata": {},
     "output_type": "execute_result"
    }
   ],
   "source": [
    "df= df.sample(frac=1,ignore_index=True)\n",
    "df"
   ]
  },
  {
   "cell_type": "code",
   "execution_count": 451,
   "metadata": {},
   "outputs": [
    {
     "data": {
      "text/plain": [
       "{'housemaid': 0,\n",
       " 'services': 1,\n",
       " 'admin.': 2,\n",
       " 'blue-collar': 3,\n",
       " 'technician': 4,\n",
       " 'retired': 5,\n",
       " 'management': 6,\n",
       " 'unemployed': 7,\n",
       " 'self-employed': 8,\n",
       " 'unknown': 2,\n",
       " 'entrepreneur': 10,\n",
       " 'student': 11,\n",
       " 'married': 0,\n",
       " 'single': 1,\n",
       " 'divorced': 2,\n",
       " 'basic.4y': 0,\n",
       " 'high.school': 1,\n",
       " 'basic.6y': 2,\n",
       " 'basic.9y': 3,\n",
       " 'professional.course': 4,\n",
       " 'university.degree': 6,\n",
       " 'illiterate': 7,\n",
       " 'no': 0,\n",
       " 'yes': 1,\n",
       " 'telephone': 0,\n",
       " 'cellular': 1,\n",
       " 'may': 0,\n",
       " 'jun': 1,\n",
       " 'jul': 2,\n",
       " 'aug': 3,\n",
       " 'oct': 4,\n",
       " 'nov': 5,\n",
       " 'dec': 6,\n",
       " 'mar': 7,\n",
       " 'apr': 8,\n",
       " 'sep': 9,\n",
       " 'mon': 0,\n",
       " 'tue': 1,\n",
       " 'wed': 2,\n",
       " 'thu': 3,\n",
       " 'fri': 4,\n",
       " 'nonexistent': 0,\n",
       " 'failure': 1,\n",
       " 'success': 2}"
      ]
     },
     "execution_count": 451,
     "metadata": {},
     "output_type": "execute_result"
    }
   ],
   "source": [
    "final_dict"
   ]
  },
  {
   "cell_type": "code",
   "execution_count": 440,
   "metadata": {},
   "outputs": [
    {
     "data": {
      "text/plain": [
       "<Axes: xlabel='housing', ylabel='Count'>"
      ]
     },
     "execution_count": 440,
     "metadata": {},
     "output_type": "execute_result"
    },
    {
     "data": {
      "image/png": "[encoded data removed]",
      "text/plain": [
       "<Figure size 640x480 with 1 Axes>"
      ]
     },
     "metadata": {},
     "output_type": "display_data"
    }
   ],
   "source": [
    "sns.histplot(df['housing'][:10000])\n",
    "# yes = 1 and no =0"
   ]
  },
  {
   "cell_type": "code",
   "execution_count": 449,
   "metadata": {},
   "outputs": [
    {
     "data": {
      "text/plain": [
       "Text(0.5, 1.0, 'Education')"
      ]
     },
     "execution_count": 449,
     "metadata": {},
     "output_type": "execute_result"
    },
    {
     "data": {
      "image/png": "[encoded data removed]",
      "text/plain": [
       "<Figure size 640x480 with 1 Axes>"
      ]
     },
     "metadata": {},
     "output_type": "display_data"
    }
   ],
   "source": [
    "sns.histplot(df['education'][:10000])\n",
    "plt.title(\"Education\")\n",
    "#'basic.4y': 0,'high.school': 1,'basic.6y': 2,'basic.9y': 3\n",
    "# 'professional.course': 4,'university.degree': 6,'illiterate': 7,"
   ]
  },
  {
   "cell_type": "code",
   "execution_count": 448,
   "metadata": {},
   "outputs": [
    {
     "data": {
      "text/plain": [
       "Text(0.5, 1.0, 'Age')"
      ]
     },
     "execution_count": 448,
     "metadata": {},
     "output_type": "execute_result"
    },
    {
     "data": {
      "image/png": "[encoded data removed]",
      "text/plain": [
       "<Figure size 640x480 with 1 Axes>"
      ]
     },
     "metadata": {},
     "output_type": "display_data"
    }
   ],
   "source": [
    "sns.histplot(df['age'][:10000])\n",
    "plt.title('Age')"
   ]
  },
  {
   "cell_type": "code",
   "execution_count": 447,
   "metadata": {},
   "outputs": [
    {
     "data": {
      "text/plain": [
       "Text(0.5, 1.0, 'loan')"
      ]
     },
     "execution_count": 447,
     "metadata": {},
     "output_type": "execute_result"
    },
    {
     "data": {
      "image/png": "[encoded data removed]",
      "text/plain": [
       "<Figure size 640x480 with 1 Axes>"
      ]
     },
     "metadata": {},
     "output_type": "display_data"
    }
   ],
   "source": [
    "sns.histplot(df['loan'])\n",
    "plt.title('loan')\n",
    "# yes =1 , mo =0.0"
   ]
  },
  {
   "cell_type": "code",
   "execution_count": 444,
   "metadata": {},
   "outputs": [
    {
     "data": {
      "text/plain": [
       "<Axes: xlabel='job', ylabel='Count'>"
      ]
     },
     "execution_count": 444,
     "metadata": {},
     "output_type": "execute_result"
    },
    {
     "data": {
      "image/png": "[encoded data removed]",
      "text/plain": [
       "<Figure size 640x480 with 1 Axes>"
      ]
     },
     "metadata": {},
     "output_type": "display_data"
    }
   ],
   "source": [
    "sns.histplot(df1['job'])\n",
    "plt.title('job')\n",
    "#'housemaid': 0,'services': 1,'admin.': 2,'blue-collar': 3,\n",
    "# 'technician': 4,'retired': 5,\n",
    "# 'management': 6,'unemployed': 7,'self-employed': 8,'unknown': 2,\n",
    "# 'entrepreneur': 10,'student': 11,"
   ]
  },
  {
   "cell_type": "code",
   "execution_count": 446,
   "metadata": {},
   "outputs": [
    {
     "data": {
      "text/plain": [
       "Text(0.5, 1.0, 'contact')"
      ]
     },
     "execution_count": 446,
     "metadata": {},
     "output_type": "execute_result"
    },
    {
     "data": {
      "image/png": "[encoded data removed]",
      "text/plain": [
       "<Figure size 640x480 with 1 Axes>"
      ]
     },
     "metadata": {},
     "output_type": "display_data"
    }
   ],
   "source": [
    "sns.histplot(df['contact'])\n",
    "plt.title('contact')\n",
    "# yes = 0.0 , no = 1.0"
   ]
  },
  {
   "cell_type": "code",
   "execution_count": null,
   "metadata": {},
   "outputs": [],
   "source": [
    "sns.histplot(df['job'])"
   ]
  },
  {
   "cell_type": "code",
   "execution_count": 436,
   "metadata": {},
   "outputs": [
    {
     "data": {
      "text/plain": [
       "{'housemaid': 0,\n",
       " 'services': 1,\n",
       " 'admin.': 2,\n",
       " 'blue-collar': 3,\n",
       " 'technician': 4,\n",
       " 'retired': 5,\n",
       " 'management': 6,\n",
       " 'unemployed': 7,\n",
       " 'self-employed': 8,\n",
       " 'unknown': 2,\n",
       " 'entrepreneur': 10,\n",
       " 'student': 11,\n",
       " 'married': 0,\n",
       " 'single': 1,\n",
       " 'divorced': 2,\n",
       " 'basic.4y': 0,\n",
       " 'high.school': 1,\n",
       " 'basic.6y': 2,\n",
       " 'basic.9y': 3,\n",
       " 'professional.course': 4,\n",
       " 'university.degree': 6,\n",
       " 'illiterate': 7,\n",
       " 'no': 0,\n",
       " 'yes': 1,\n",
       " 'telephone': 0,\n",
       " 'cellular': 1,\n",
       " 'may': 0,\n",
       " 'jun': 1,\n",
       " 'jul': 2,\n",
       " 'aug': 3,\n",
       " 'oct': 4,\n",
       " 'nov': 5,\n",
       " 'dec': 6,\n",
       " 'mar': 7,\n",
       " 'apr': 8,\n",
       " 'sep': 9,\n",
       " 'mon': 0,\n",
       " 'tue': 1,\n",
       " 'wed': 2,\n",
       " 'thu': 3,\n",
       " 'fri': 4,\n",
       " 'nonexistent': 0,\n",
       " 'failure': 1,\n",
       " 'success': 2}"
      ]
     },
     "execution_count": 436,
     "metadata": {},
     "output_type": "execute_result"
    }
   ],
   "source": [
    "final_dict"
   ]
  },
  {
   "cell_type": "code",
   "execution_count": 438,
   "metadata": {},
   "outputs": [
    {
     "data": {
      "text/plain": [
       "<Axes: xlabel='marital', ylabel='Count'>"
      ]
     },
     "execution_count": 438,
     "metadata": {},
     "output_type": "execute_result"
    },
    {
     "data": {
      "image/png": "[encoded data removed]",
      "text/plain": [
       "<Figure size 640x480 with 1 Axes>"
      ]
     },
     "metadata": {},
     "output_type": "display_data"
    }
   ],
   "source": [
    "sns.histplot(df['marital'][:1000])"
   ]
  },
  {
   "cell_type": "code",
   "execution_count": null,
   "metadata": {},
   "outputs": [],
   "source": []
  },
  {
   "cell_type": "code",
   "execution_count": null,
   "metadata": {},
   "outputs": [],
   "source": []
  }
 ],
 "metadata": {
  "kernelspec": {
   "display_name": "Python 3",
   "language": "python",
   "name": "python3"
  },
  "language_info": {
   "codemirror_mode": {
    "name": "ipython",
    "version": 3
   },
   "file_extension": ".py",
   "mimetype": "text/x-python",
   "name": "python",
   "nbconvert_exporter": "python",
   "pygments_lexer": "ipython3",
   "version": "3.11.5"
  }
 },
 "nbformat": 4,
 "nbformat_minor": 2
}
